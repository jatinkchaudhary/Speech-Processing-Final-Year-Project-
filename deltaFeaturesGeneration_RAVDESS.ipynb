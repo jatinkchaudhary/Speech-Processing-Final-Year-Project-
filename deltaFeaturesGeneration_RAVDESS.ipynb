{
  "nbformat": 4,
  "nbformat_minor": 0,
  "metadata": {
    "colab": {
      "name": "delta generation.ipynb",
      "provenance": [],
      "collapsed_sections": [],
      "include_colab_link": true
    },
    "kernelspec": {
      "name": "python3",
      "display_name": "Python 3"
    }
  },
  "cells": [
    {
      "cell_type": "markdown",
      "metadata": {
        "id": "view-in-github",
        "colab_type": "text"
      },
      "source": [
        "<a href=\"https://colab.research.google.com/github/jatinkchaudhary/Speech-Processing-Final-Year-Project-/blob/main/deltaFeaturesGeneration_RAVDESS.ipynb\" target=\"_parent\"><img src=\"https://colab.research.google.com/assets/colab-badge.svg\" alt=\"Open In Colab\"/></a>"
      ]
    },
    {
      "cell_type": "code",
      "metadata": {
        "id": "gcprRSuZ1raT"
      },
      "source": [
        "import librosa\n",
        "%matplotlib inline\n",
        "import matplotlib.pyplot as plt\n",
        "import librosa.display\n",
        "from IPython.display import Audio\n",
        "import numpy as np\n",
        "import tensorflow as tf\n",
        "from matplotlib.pyplot import specgram\n",
        "import pandas as pd\n",
        "from sklearn.metrics import confusion_matrix\n",
        "import IPython.display as ipd  # To play sound in the notebook\n",
        "import os # interface with underlying OS that python is running on\n",
        "import sys\n",
        "import warnings\n",
        "# ignore warnings \n",
        "if not sys.warnoptions:\n",
        "    warnings.simplefilter(\"ignore\")\n",
        "warnings.filterwarnings(\"ignore\", category=DeprecationWarning)\n",
        "from sklearn.model_selection import train_test_split\n",
        "from sklearn.preprocessing import LabelEncoder\n",
        "import tensorflow.keras\n",
        "from tensorflow.keras.models import Sequential\n",
        "from tensorflow.keras.layers import Conv1D, MaxPooling1D, AveragePooling1D\n",
        "from tensorflow.keras.layers import Input, Flatten, Dropout, Activation, BatchNormalization, Dense\n",
        "from sklearn.model_selection import GridSearchCV\n",
        "from tensorflow.keras.wrappers.scikit_learn import KerasClassifier\n",
        "from tensorflow.keras.optimizers import SGD\n",
        "from tensorflow.keras.regularizers import l2\n",
        "import seaborn as sns\n",
        "import keras\n",
        "from tensorflow.keras.callbacks import EarlyStopping, ModelCheckpoint\n",
        "from tensorflow.keras.utils import to_categorical\n",
        "from sklearn.metrics import classification_report"
      ],
      "execution_count": null,
      "outputs": []
    },
    {
      "cell_type": "code",
      "metadata": {
        "id": "xt5Vuk9o16ui"
      },
      "source": [
        "k = pd.read_csv('/content/mfcc.csv')"
      ],
      "execution_count": null,
      "outputs": []
    },
    {
      "cell_type": "code",
      "metadata": {
        "colab": {
          "base_uri": "https://localhost:8080/"
        },
        "id": "rUcvX9wP2WPa",
        "outputId": "99744244-6e62-4d9e-feea-3ab606d7d42a"
      },
      "source": [
        "k.columns"
      ],
      "execution_count": null,
      "outputs": [
        {
          "output_type": "execute_result",
          "data": {
            "text/plain": [
              "Index(['mel_spectrogram', 'gender', 'emotion'], dtype='object')"
            ]
          },
          "metadata": {
            "tags": []
          },
          "execution_count": 44
        }
      ]
    },
    {
      "cell_type": "code",
      "metadata": {
        "id": "NKWVSZsn2cVo"
      },
      "source": [
        "k = k.drop(columns={'gender','emotion'})"
      ],
      "execution_count": null,
      "outputs": []
    },
    {
      "cell_type": "code",
      "metadata": {
        "colab": {
          "base_uri": "https://localhost:8080/"
        },
        "id": "QEbciJRshPpx",
        "outputId": "dae6e678-87f6-48af-bd56-6990c5592e2a"
      },
      "source": [
        "k.mel_spectrogram.replace('[','')"
      ],
      "execution_count": null,
      "outputs": [
        {
          "output_type": "execute_result",
          "data": {
            "text/plain": [
              "0       [-6.9798419e+02  5.5228489e+01  3.2386321e-01 ...\n",
              "1       [-6.8523792e+02  5.6236694e+01  2.4531119e+00 ...\n",
              "2       [-6.9740387e+02  6.5513802e+01  5.2535695e-01 ...\n",
              "3       [-7.0755347e+02  6.7097733e+01  1.9093652e+00 ...\n",
              "4       [-7.2731793e+02  6.2764400e+01  2.7512746e+00 ...\n",
              "                              ...                        \n",
              "1435    [-6.79587769e+02  3.07080517e+01 -3.11348534e+...\n",
              "1436    [-5.1100708e+02  3.1945696e+01 -2.4223425e+01 ...\n",
              "1437    [-5.8676270e+02  2.5372396e+01 -1.7824156e+01 ...\n",
              "1438    [-6.0911829e+02  5.4886749e+01 -1.1289345e+01 ...\n",
              "1439    [-4.9298596e+02  2.4425610e+01 -6.5657177e+00 ...\n",
              "Name: mel_spectrogram, Length: 1440, dtype: object"
            ]
          },
          "metadata": {
            "tags": []
          },
          "execution_count": 51
        }
      ]
    },
    {
      "cell_type": "code",
      "metadata": {
        "id": "xTEaK1jU2i-M"
      },
      "source": [
        "k['mel_spectrogram'] =  k['mel_spectrogram'].apply(lambda x: x.replace('[','').replace(']','')) \n"
      ],
      "execution_count": null,
      "outputs": []
    },
    {
      "cell_type": "code",
      "metadata": {
        "id": "g48IaA6UeigR"
      },
      "source": [
        "k['mel_spectrogram'] =  k['mel_spectrogram'].apply(lambda x: x.replace(' ',',')) "
      ],
      "execution_count": null,
      "outputs": []
    },
    {
      "cell_type": "code",
      "metadata": {
        "id": "JyYF87TmesqX"
      },
      "source": [
        "k['mel_spectrogram'] = k['mel_spectrogram'].replace(\" \",\", \")"
      ],
      "execution_count": null,
      "outputs": []
    },
    {
      "cell_type": "code",
      "metadata": {
        "id": "a7SJwlrBgPO_"
      },
      "source": [
        "k['mel_spectrogram'] = k['mel_spectrogram'].replace(\" \",\",\")"
      ],
      "execution_count": null,
      "outputs": []
    },
    {
      "cell_type": "code",
      "metadata": {
        "colab": {
          "base_uri": "https://localhost:8080/",
          "height": 454
        },
        "id": "jfI_-8UKgBG4",
        "outputId": "6418b743-fa5c-491f-eda1-4c5c78a1b64a"
      },
      "source": [
        "mfcc_delta = librosa.feature.delta(k['mel_spectrogram'])\n"
      ],
      "execution_count": null,
      "outputs": [
        {
          "output_type": "error",
          "ename": "ValueError",
          "evalue": "ignored",
          "traceback": [
            "\u001b[0;31m---------------------------------------------------------------------------\u001b[0m",
            "\u001b[0;31mValueError\u001b[0m                                Traceback (most recent call last)",
            "\u001b[0;32m<ipython-input-39-673f8d999c0e>\u001b[0m in \u001b[0;36m<module>\u001b[0;34m()\u001b[0m\n\u001b[0;32m----> 1\u001b[0;31m \u001b[0mmfcc_delta\u001b[0m \u001b[0;34m=\u001b[0m \u001b[0mlibrosa\u001b[0m\u001b[0;34m.\u001b[0m\u001b[0mfeature\u001b[0m\u001b[0;34m.\u001b[0m\u001b[0mdelta\u001b[0m\u001b[0;34m(\u001b[0m\u001b[0mk\u001b[0m\u001b[0;34m[\u001b[0m\u001b[0;34m'mel_spectrogram'\u001b[0m\u001b[0;34m]\u001b[0m\u001b[0;34m)\u001b[0m\u001b[0;34m\u001b[0m\u001b[0;34m\u001b[0m\u001b[0m\n\u001b[0m",
            "\u001b[0;32m/usr/local/lib/python3.7/dist-packages/librosa/feature/utils.py\u001b[0m in \u001b[0;36mdelta\u001b[0;34m(data, width, order, axis, mode, **kwargs)\u001b[0m\n\u001b[1;32m    114\u001b[0m     \u001b[0mkwargs\u001b[0m\u001b[0;34m.\u001b[0m\u001b[0msetdefault\u001b[0m\u001b[0;34m(\u001b[0m\u001b[0;34m\"polyorder\"\u001b[0m\u001b[0;34m,\u001b[0m \u001b[0morder\u001b[0m\u001b[0;34m)\u001b[0m\u001b[0;34m\u001b[0m\u001b[0;34m\u001b[0m\u001b[0m\n\u001b[1;32m    115\u001b[0m     return scipy.signal.savgol_filter(\n\u001b[0;32m--> 116\u001b[0;31m         \u001b[0mdata\u001b[0m\u001b[0;34m,\u001b[0m \u001b[0mwidth\u001b[0m\u001b[0;34m,\u001b[0m \u001b[0mderiv\u001b[0m\u001b[0;34m=\u001b[0m\u001b[0morder\u001b[0m\u001b[0;34m,\u001b[0m \u001b[0maxis\u001b[0m\u001b[0;34m=\u001b[0m\u001b[0maxis\u001b[0m\u001b[0;34m,\u001b[0m \u001b[0mmode\u001b[0m\u001b[0;34m=\u001b[0m\u001b[0mmode\u001b[0m\u001b[0;34m,\u001b[0m \u001b[0;34m**\u001b[0m\u001b[0mkwargs\u001b[0m\u001b[0;34m\u001b[0m\u001b[0;34m\u001b[0m\u001b[0m\n\u001b[0m\u001b[1;32m    117\u001b[0m     )\n\u001b[1;32m    118\u001b[0m \u001b[0;34m\u001b[0m\u001b[0m\n",
            "\u001b[0;32m/usr/local/lib/python3.7/dist-packages/scipy/signal/_savitzky_golay.py\u001b[0m in \u001b[0;36msavgol_filter\u001b[0;34m(x, window_length, polyorder, deriv, delta, axis, mode, cval)\u001b[0m\n\u001b[1;32m    333\u001b[0m     \u001b[0;31m# Ensure that x is either single or double precision floating point.\u001b[0m\u001b[0;34m\u001b[0m\u001b[0;34m\u001b[0m\u001b[0;34m\u001b[0m\u001b[0m\n\u001b[1;32m    334\u001b[0m     \u001b[0;32mif\u001b[0m \u001b[0mx\u001b[0m\u001b[0;34m.\u001b[0m\u001b[0mdtype\u001b[0m \u001b[0;34m!=\u001b[0m \u001b[0mnp\u001b[0m\u001b[0;34m.\u001b[0m\u001b[0mfloat64\u001b[0m \u001b[0;32mand\u001b[0m \u001b[0mx\u001b[0m\u001b[0;34m.\u001b[0m\u001b[0mdtype\u001b[0m \u001b[0;34m!=\u001b[0m \u001b[0mnp\u001b[0m\u001b[0;34m.\u001b[0m\u001b[0mfloat32\u001b[0m\u001b[0;34m:\u001b[0m\u001b[0;34m\u001b[0m\u001b[0;34m\u001b[0m\u001b[0m\n\u001b[0;32m--> 335\u001b[0;31m         \u001b[0mx\u001b[0m \u001b[0;34m=\u001b[0m \u001b[0mx\u001b[0m\u001b[0;34m.\u001b[0m\u001b[0mastype\u001b[0m\u001b[0;34m(\u001b[0m\u001b[0mnp\u001b[0m\u001b[0;34m.\u001b[0m\u001b[0mfloat64\u001b[0m\u001b[0;34m)\u001b[0m\u001b[0;34m\u001b[0m\u001b[0;34m\u001b[0m\u001b[0m\n\u001b[0m\u001b[1;32m    336\u001b[0m \u001b[0;34m\u001b[0m\u001b[0m\n\u001b[1;32m    337\u001b[0m     \u001b[0mcoeffs\u001b[0m \u001b[0;34m=\u001b[0m \u001b[0msavgol_coeffs\u001b[0m\u001b[0;34m(\u001b[0m\u001b[0mwindow_length\u001b[0m\u001b[0;34m,\u001b[0m \u001b[0mpolyorder\u001b[0m\u001b[0;34m,\u001b[0m \u001b[0mderiv\u001b[0m\u001b[0;34m=\u001b[0m\u001b[0mderiv\u001b[0m\u001b[0;34m,\u001b[0m \u001b[0mdelta\u001b[0m\u001b[0;34m=\u001b[0m\u001b[0mdelta\u001b[0m\u001b[0;34m)\u001b[0m\u001b[0;34m\u001b[0m\u001b[0;34m\u001b[0m\u001b[0m\n",
            "\u001b[0;31mValueError\u001b[0m: could not convert string to float: '-6.9798419e+02  5.5228489e+01  3.2386321e-01  1.2775377e+01\\n  7.3961482e+00  8.6622393e-01 -3.5502758e+00 -2.8283315e+00\\n -1.1305533e+01 -2.5249267e+00  4.9610442e-01 -2.7229269e+00\\n  1.6458002e+00 -3.4319642e+00  1.4035642e-01  1.0731595e+00\\n -4.3556719e+00 -1.5837712e+00 -1.5930088e+00 -6.5936118e-01\\n -6.2007332e+00 -2.6033115e-01 -2.5739810e+00 -4.2953477e+00\\n -1.8979306e+00 -6.0985529e-01 -5.0588140e+00  4.4614440e-01\\n -2.3297389e+00  3.1653264e-01 -2.1978137e+00 -1.9670634e+00\\n -2.8553901e+00 -1.7034268e+00 -3.3283739e+00 -1.4314876e+00\\n -1.1954836e+00 -1.6748068e+00 -3.5871463e+00 -1.4610063e+00'"
          ]
        }
      ]
    },
    {
      "cell_type": "code",
      "metadata": {
        "id": "hHzgQ8DQ2qlh"
      },
      "source": [
        "mfcc_delta = pd.DataFrame(mfcc_delta)"
      ],
      "execution_count": null,
      "outputs": []
    },
    {
      "cell_type": "code",
      "metadata": {
        "id": "_Q8Uwbpj2yhQ"
      },
      "source": [
        "mfcc_delta.to_csv('delta1.csv', index='False')"
      ],
      "execution_count": null,
      "outputs": []
    },
    {
      "cell_type": "code",
      "metadata": {
        "id": "u7CnE8vk3Fe_"
      },
      "source": [
        "mfcc_delta2 = librosa.feature.delta(k, order=2)\n",
        "mfcc_delta2 = pd.DataFrame(mfcc_delta2)\n",
        "mfcc_delta2.to_csv('delta-delta.csv', index='False')"
      ],
      "execution_count": null,
      "outputs": []
    },
    {
      "cell_type": "code",
      "metadata": {
        "id": "bNYob1aT3SDQ"
      },
      "source": [
        "ky = pd.read_csv('/content/comma_prelim_mfcc.csv')"
      ],
      "execution_count": null,
      "outputs": []
    },
    {
      "cell_type": "code",
      "metadata": {
        "colab": {
          "base_uri": "https://localhost:8080/"
        },
        "id": "19hJZIZ33a4a",
        "outputId": "e4b92f28-3718-4883-dcec-007bc6c28fee"
      },
      "source": [
        "ky.columns"
      ],
      "execution_count": null,
      "outputs": [
        {
          "output_type": "execute_result",
          "data": {
            "text/plain": [
              "Index(['Unnamed: 0', '0', '1', '2', '3', '4', '5', '6', '7', '8',\n",
              "       ...\n",
              "       '250', '251', '252', '253', '254', '255', '256', '257', '258', '0.1'],\n",
              "      dtype='object', length=261)"
            ]
          },
          "metadata": {
            "tags": []
          },
          "execution_count": 34
        }
      ]
    },
    {
      "cell_type": "code",
      "metadata": {
        "colab": {
          "base_uri": "https://localhost:8080/",
          "height": 402
        },
        "id": "RdQwvp5B3bNp",
        "outputId": "a2ef112c-3aaf-417e-f293-58cfea6be0ec"
      },
      "source": [
        "f = ky['0.1']\n",
        "f = pd.DataFrame(f)\n",
        "f"
      ],
      "execution_count": null,
      "outputs": [
        {
          "output_type": "execute_result",
          "data": {
            "text/html": [
              "<div>\n",
              "<style scoped>\n",
              "    .dataframe tbody tr th:only-of-type {\n",
              "        vertical-align: middle;\n",
              "    }\n",
              "\n",
              "    .dataframe tbody tr th {\n",
              "        vertical-align: top;\n",
              "    }\n",
              "\n",
              "    .dataframe thead th {\n",
              "        text-align: right;\n",
              "    }\n",
              "</style>\n",
              "<table border=\"1\" class=\"dataframe\">\n",
              "  <thead>\n",
              "    <tr style=\"text-align: right;\">\n",
              "      <th></th>\n",
              "      <th>0.1</th>\n",
              "    </tr>\n",
              "  </thead>\n",
              "  <tbody>\n",
              "    <tr>\n",
              "      <th>0</th>\n",
              "      <td>male_neutral</td>\n",
              "    </tr>\n",
              "    <tr>\n",
              "      <th>1</th>\n",
              "      <td>male_neutral</td>\n",
              "    </tr>\n",
              "    <tr>\n",
              "      <th>2</th>\n",
              "      <td>male_calm</td>\n",
              "    </tr>\n",
              "    <tr>\n",
              "      <th>3</th>\n",
              "      <td>male_calm</td>\n",
              "    </tr>\n",
              "    <tr>\n",
              "      <th>4</th>\n",
              "      <td>male_calm</td>\n",
              "    </tr>\n",
              "    <tr>\n",
              "      <th>...</th>\n",
              "      <td>...</td>\n",
              "    </tr>\n",
              "    <tr>\n",
              "      <th>1435</th>\n",
              "      <td>female_surprise</td>\n",
              "    </tr>\n",
              "    <tr>\n",
              "      <th>1436</th>\n",
              "      <td>female_disgust</td>\n",
              "    </tr>\n",
              "    <tr>\n",
              "      <th>1437</th>\n",
              "      <td>female_surprise</td>\n",
              "    </tr>\n",
              "    <tr>\n",
              "      <th>1438</th>\n",
              "      <td>female_disgust</td>\n",
              "    </tr>\n",
              "    <tr>\n",
              "      <th>1439</th>\n",
              "      <td>female_surprise</td>\n",
              "    </tr>\n",
              "  </tbody>\n",
              "</table>\n",
              "<p>1440 rows × 1 columns</p>\n",
              "</div>"
            ],
            "text/plain": [
              "                  0.1\n",
              "0        male_neutral\n",
              "1        male_neutral\n",
              "2           male_calm\n",
              "3           male_calm\n",
              "4           male_calm\n",
              "...               ...\n",
              "1435  female_surprise\n",
              "1436   female_disgust\n",
              "1437  female_surprise\n",
              "1438   female_disgust\n",
              "1439  female_surprise\n",
              "\n",
              "[1440 rows x 1 columns]"
            ]
          },
          "metadata": {
            "tags": []
          },
          "execution_count": 35
        }
      ]
    },
    {
      "cell_type": "code",
      "metadata": {
        "id": "PTyLX8bG35Sk"
      },
      "source": [
        "delta = pd.concat([mfcc_delta, f])"
      ],
      "execution_count": null,
      "outputs": []
    },
    {
      "cell_type": "code",
      "metadata": {
        "id": "4yEc0HXG4lrb"
      },
      "source": [
        "delta.to_csv('delta.csv', index='False')"
      ],
      "execution_count": null,
      "outputs": []
    },
    {
      "cell_type": "code",
      "metadata": {
        "id": "vHsF6UHN4q8M"
      },
      "source": [
        "delta_delta = pd.concat([mfcc_delta, f])\n",
        "delta_delta.to_csv('delta_delta.csv', index='False')"
      ],
      "execution_count": null,
      "outputs": []
    }
  ]
}